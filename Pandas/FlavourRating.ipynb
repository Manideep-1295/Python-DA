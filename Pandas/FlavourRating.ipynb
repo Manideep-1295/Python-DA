{
 "cells": [
  {
   "cell_type": "code",
   "execution_count": 1,
   "metadata": {},
   "outputs": [],
   "source": [
    "from pandas import *\n",
    "from numpy import *"
   ]
  },
  {
   "cell_type": "code",
   "execution_count": 2,
   "metadata": {},
   "outputs": [
    {
     "data": {
      "text/html": [
       "<div>\n",
       "<style scoped>\n",
       "    .dataframe tbody tr th:only-of-type {\n",
       "        vertical-align: middle;\n",
       "    }\n",
       "\n",
       "    .dataframe tbody tr th {\n",
       "        vertical-align: top;\n",
       "    }\n",
       "\n",
       "    .dataframe thead th {\n",
       "        text-align: right;\n",
       "    }\n",
       "</style>\n",
       "<table border=\"1\" class=\"dataframe\">\n",
       "  <thead>\n",
       "    <tr style=\"text-align: right;\">\n",
       "      <th></th>\n",
       "      <th>Flavor</th>\n",
       "      <th>Base Flavor</th>\n",
       "      <th>Liked</th>\n",
       "      <th>Flavor Rating</th>\n",
       "      <th>Texture Rating</th>\n",
       "      <th>Total Rating</th>\n",
       "    </tr>\n",
       "  </thead>\n",
       "  <tbody>\n",
       "    <tr>\n",
       "      <th>0</th>\n",
       "      <td>Mint Chocolate Chip</td>\n",
       "      <td>Vanilla</td>\n",
       "      <td>Yes</td>\n",
       "      <td>10.0</td>\n",
       "      <td>8.0</td>\n",
       "      <td>18.0</td>\n",
       "    </tr>\n",
       "    <tr>\n",
       "      <th>1</th>\n",
       "      <td>Chocolate</td>\n",
       "      <td>Chocolate</td>\n",
       "      <td>Yes</td>\n",
       "      <td>8.8</td>\n",
       "      <td>7.6</td>\n",
       "      <td>16.6</td>\n",
       "    </tr>\n",
       "    <tr>\n",
       "      <th>2</th>\n",
       "      <td>Vanilla</td>\n",
       "      <td>Vanilla</td>\n",
       "      <td>No</td>\n",
       "      <td>4.7</td>\n",
       "      <td>5.0</td>\n",
       "      <td>9.7</td>\n",
       "    </tr>\n",
       "    <tr>\n",
       "      <th>3</th>\n",
       "      <td>Cookie Dough</td>\n",
       "      <td>Vanilla</td>\n",
       "      <td>Yes</td>\n",
       "      <td>6.9</td>\n",
       "      <td>6.5</td>\n",
       "      <td>13.4</td>\n",
       "    </tr>\n",
       "    <tr>\n",
       "      <th>4</th>\n",
       "      <td>Rocky Road</td>\n",
       "      <td>Chocolate</td>\n",
       "      <td>Yes</td>\n",
       "      <td>8.2</td>\n",
       "      <td>7.0</td>\n",
       "      <td>15.2</td>\n",
       "    </tr>\n",
       "    <tr>\n",
       "      <th>5</th>\n",
       "      <td>Pistachio</td>\n",
       "      <td>Vanilla</td>\n",
       "      <td>No</td>\n",
       "      <td>2.3</td>\n",
       "      <td>3.4</td>\n",
       "      <td>5.7</td>\n",
       "    </tr>\n",
       "    <tr>\n",
       "      <th>6</th>\n",
       "      <td>Cake Batter</td>\n",
       "      <td>Vanilla</td>\n",
       "      <td>Yes</td>\n",
       "      <td>6.5</td>\n",
       "      <td>6.0</td>\n",
       "      <td>12.5</td>\n",
       "    </tr>\n",
       "    <tr>\n",
       "      <th>7</th>\n",
       "      <td>Neapolitan</td>\n",
       "      <td>Vanilla</td>\n",
       "      <td>No</td>\n",
       "      <td>3.8</td>\n",
       "      <td>5.0</td>\n",
       "      <td>8.8</td>\n",
       "    </tr>\n",
       "    <tr>\n",
       "      <th>8</th>\n",
       "      <td>Chocolte Fudge Brownie</td>\n",
       "      <td>Chocolate</td>\n",
       "      <td>Yes</td>\n",
       "      <td>8.2</td>\n",
       "      <td>7.1</td>\n",
       "      <td>15.3</td>\n",
       "    </tr>\n",
       "  </tbody>\n",
       "</table>\n",
       "</div>"
      ],
      "text/plain": [
       "                   Flavor Base Flavor Liked  Flavor Rating  Texture Rating  \\\n",
       "0     Mint Chocolate Chip     Vanilla   Yes           10.0             8.0   \n",
       "1               Chocolate   Chocolate   Yes            8.8             7.6   \n",
       "2                 Vanilla     Vanilla    No            4.7             5.0   \n",
       "3            Cookie Dough     Vanilla   Yes            6.9             6.5   \n",
       "4              Rocky Road   Chocolate   Yes            8.2             7.0   \n",
       "5               Pistachio     Vanilla    No            2.3             3.4   \n",
       "6             Cake Batter     Vanilla   Yes            6.5             6.0   \n",
       "7              Neapolitan     Vanilla    No            3.8             5.0   \n",
       "8  Chocolte Fudge Brownie   Chocolate   Yes            8.2             7.1   \n",
       "\n",
       "   Total Rating  \n",
       "0          18.0  \n",
       "1          16.6  \n",
       "2           9.7  \n",
       "3          13.4  \n",
       "4          15.2  \n",
       "5           5.7  \n",
       "6          12.5  \n",
       "7           8.8  \n",
       "8          15.3  "
      ]
     },
     "execution_count": 2,
     "metadata": {},
     "output_type": "execute_result"
    }
   ],
   "source": [
    "df = read_csv(\"Flavor_Rating.csv\")\n",
    "df"
   ]
  },
  {
   "cell_type": "markdown",
   "metadata": {},
   "source": [
    "DataFrame.groupby(by=None, axis=0, level=None, as_index=True, sort=True, group_keys=True, squeeze=NoDefault.no_default, observed=False, dropna=True)\n"
   ]
  },
  {
   "cell_type": "code",
   "execution_count": 26,
   "metadata": {},
   "outputs": [
    {
     "name": "stderr",
     "output_type": "stream",
     "text": [
      "C:\\Users\\Manideep.Kothapalli\\AppData\\Local\\Temp\\ipykernel_10860\\2010670088.py:1: FutureWarning: The 'axis' keyword in DataFrame.groupby is deprecated and will be removed in a future version.\n",
      "  df.groupby(by=[\"Base Flavor\"], axis=0, level=None, as_index=True, sort=True, group_keys=True, observed=False, dropna=True)\n"
     ]
    },
    {
     "data": {
      "text/plain": [
       "<pandas.core.groupby.generic.DataFrameGroupBy object at 0x000001FB87200650>"
      ]
     },
     "execution_count": 26,
     "metadata": {},
     "output_type": "execute_result"
    }
   ],
   "source": [
    "df.groupby(by=[\"Base Flavor\"], axis=0, level=None, as_index=True, sort=True, group_keys=True, observed=False, dropna=True)\n"
   ]
  },
  {
   "cell_type": "code",
   "execution_count": 31,
   "metadata": {},
   "outputs": [
    {
     "data": {
      "text/html": [
       "<div>\n",
       "<style scoped>\n",
       "    .dataframe tbody tr th:only-of-type {\n",
       "        vertical-align: middle;\n",
       "    }\n",
       "\n",
       "    .dataframe tbody tr th {\n",
       "        vertical-align: top;\n",
       "    }\n",
       "\n",
       "    .dataframe thead th {\n",
       "        text-align: right;\n",
       "    }\n",
       "</style>\n",
       "<table border=\"1\" class=\"dataframe\">\n",
       "  <thead>\n",
       "    <tr style=\"text-align: right;\">\n",
       "      <th></th>\n",
       "      <th></th>\n",
       "      <th>Flavor</th>\n",
       "      <th>Flavor Rating</th>\n",
       "      <th>Texture Rating</th>\n",
       "      <th>Total Rating</th>\n",
       "    </tr>\n",
       "    <tr>\n",
       "      <th>Base Flavor</th>\n",
       "      <th>Liked</th>\n",
       "      <th></th>\n",
       "      <th></th>\n",
       "      <th></th>\n",
       "      <th></th>\n",
       "    </tr>\n",
       "  </thead>\n",
       "  <tbody>\n",
       "    <tr>\n",
       "      <th>Chocolate</th>\n",
       "      <th>Yes</th>\n",
       "      <td>Rocky Road</td>\n",
       "      <td>8.8</td>\n",
       "      <td>7.6</td>\n",
       "      <td>16.6</td>\n",
       "    </tr>\n",
       "    <tr>\n",
       "      <th rowspan=\"2\" valign=\"top\">Vanilla</th>\n",
       "      <th>No</th>\n",
       "      <td>Vanilla</td>\n",
       "      <td>4.7</td>\n",
       "      <td>5.0</td>\n",
       "      <td>9.7</td>\n",
       "    </tr>\n",
       "    <tr>\n",
       "      <th>Yes</th>\n",
       "      <td>Mint Chocolate Chip</td>\n",
       "      <td>10.0</td>\n",
       "      <td>8.0</td>\n",
       "      <td>18.0</td>\n",
       "    </tr>\n",
       "  </tbody>\n",
       "</table>\n",
       "</div>"
      ],
      "text/plain": [
       "                                Flavor  Flavor Rating  Texture Rating  \\\n",
       "Base Flavor Liked                                                       \n",
       "Chocolate   Yes             Rocky Road            8.8             7.6   \n",
       "Vanilla     No                 Vanilla            4.7             5.0   \n",
       "            Yes    Mint Chocolate Chip           10.0             8.0   \n",
       "\n",
       "                   Total Rating  \n",
       "Base Flavor Liked                \n",
       "Chocolate   Yes            16.6  \n",
       "Vanilla     No              9.7  \n",
       "            Yes            18.0  "
      ]
     },
     "execution_count": 31,
     "metadata": {},
     "output_type": "execute_result"
    }
   ],
   "source": [
    "df.groupby([\"Base Flavor\", \"Liked\"]).max()"
   ]
  },
  {
   "cell_type": "code",
   "execution_count": 37,
   "metadata": {},
   "outputs": [
    {
     "name": "stdout",
     "output_type": "stream",
     "text": [
      "                  Flavor Rating                  Texture Rating            \\\n",
      "                           mean   max  min   sum           mean  max  min   \n",
      "Base Flavor Liked                                                           \n",
      "Chocolate   Yes             8.4   8.8  8.2  25.2       7.233333  7.6  7.0   \n",
      "Vanilla     No              3.6   4.7  2.3  10.8       4.466667  5.0  3.4   \n",
      "            Yes             7.8  10.0  6.5  23.4       6.833333  8.0  6.0   \n",
      "\n",
      "                        Total Rating                    \n",
      "                    sum         mean   max   min   sum  \n",
      "Base Flavor Liked                                       \n",
      "Chocolate   Yes    21.7    15.700000  16.6  15.2  47.1  \n",
      "Vanilla     No     13.4     8.066667   9.7   5.7  24.2  \n",
      "            Yes    20.5    14.633333  18.0  12.5  43.9  \n"
     ]
    }
   ],
   "source": [
    "# Group by 'Flavor' and apply multiple aggregation functions to 'Total Rating'\n",
    "grouped_by_flavor_agg = df.groupby(['Base Flavor','Liked'])[['Flavor Rating', 'Texture Rating','Total Rating']].agg(['mean', 'max', 'min','sum'])\n",
    "print(grouped_by_flavor_agg)\n"
   ]
  }
 ],
 "metadata": {
  "kernelspec": {
   "display_name": "Python 3",
   "language": "python",
   "name": "python3"
  },
  "language_info": {
   "codemirror_mode": {
    "name": "ipython",
    "version": 3
   },
   "file_extension": ".py",
   "mimetype": "text/x-python",
   "name": "python",
   "nbconvert_exporter": "python",
   "pygments_lexer": "ipython3",
   "version": "3.12.3"
  }
 },
 "nbformat": 4,
 "nbformat_minor": 2
}

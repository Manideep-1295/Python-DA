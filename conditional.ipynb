{
 "cells": [
  {
   "cell_type": "markdown",
   "metadata": {},
   "source": [
    "Write a program that reads the students marks as input and prints PASS or FAIL. If the student score more than 50, print PASS. "
   ]
  },
  {
   "cell_type": "code",
   "execution_count": 1,
   "metadata": {},
   "outputs": [
    {
     "name": "stdout",
     "output_type": "stream",
     "text": [
      "Fail\n"
     ]
    }
   ],
   "source": [
    "mark = int(input(\"Enter marks of student: \"))\n",
    "\n",
    "if mark > 50:\n",
    "    print(\"PASS\")\n",
    "else:\n",
    "    print(\"Fail\")"
   ]
  },
  {
   "cell_type": "markdown",
   "metadata": {},
   "source": [
    "Given the length of the box, check if it is a Rectangle or Square "
   ]
  },
  {
   "cell_type": "code",
   "execution_count": 2,
   "metadata": {},
   "outputs": [
    {
     "name": "stdout",
     "output_type": "stream",
     "text": [
      "Square\n"
     ]
    }
   ],
   "source": [
    "length = int(input(\"Length: \"))\n",
    "breadth = int(input(\"Breadth: \"))\n",
    "\n",
    "if length == breadth:\n",
    "    print(\"Square\")\n",
    "else:\n",
    "    print(\"Rectangle\")"
   ]
  },
  {
   "cell_type": "markdown",
   "metadata": {},
   "source": [
    "Write a Program that reads a temperature and checks if the given temperature is between 15 and 40. print 'Can go for a Walk' if it is between 15 and 40. "
   ]
  },
  {
   "cell_type": "code",
   "execution_count": 4,
   "metadata": {},
   "outputs": [
    {
     "name": "stdout",
     "output_type": "stream",
     "text": [
      "Temperature outside:  15.9\n",
      "Can go for walk\n"
     ]
    }
   ],
   "source": [
    "temp = float(input(\"Enter temperature in celcius: \"))\n",
    "print(\"Temperature outside: \",temp)\n",
    "if temp >= 15 and temp <= 40:\n",
    "    print(\"Can go for walk\")\n",
    "else:\n",
    "    print(\"Can't go for walk\")"
   ]
  },
  {
   "cell_type": "markdown",
   "metadata": {},
   "source": [
    "Write a Program that reads the scores A and B of two players and checks if one of the scores is greater than 300 and the sum of the scores is less than 500. Print 'Can Team Up' if one the scores is greater than 300 and the sum of the scores is less than 500, otherwise print 'Cannot Team Up' "
   ]
  },
  {
   "cell_type": "code",
   "execution_count": 5,
   "metadata": {},
   "outputs": [
    {
     "name": "stdout",
     "output_type": "stream",
     "text": [
      "Can Team Up\n"
     ]
    }
   ],
   "source": [
    "A = int(input(\"Enter score of A: \"))\n",
    "B = int(input(\"Enter score of B: \"))\n",
    "\n",
    "if A > 300 or B > 300:\n",
    "    if A+B < 500:\n",
    "        print(\"Can Team Up\")\n",
    "else:\n",
    "    print(\"Cannot Team Up\")"
   ]
  },
  {
   "cell_type": "markdown",
   "metadata": {},
   "source": [
    "Give three angles of a triangle, write a program to check whether the triangle is valid or not. "
   ]
  },
  {
   "cell_type": "code",
   "execution_count": 6,
   "metadata": {},
   "outputs": [
    {
     "name": "stdout",
     "output_type": "stream",
     "text": [
      "Triangle is valid\n"
     ]
    }
   ],
   "source": [
    "a1 = int(input(\"Enter angle 1: \"))\n",
    "a2 = int(input(\"Enter angle 2: \"))\n",
    "a3 = int(input(\"Enter angle 3: \"))\n",
    "\n",
    "if a1+a2+a3 == 180:\n",
    "    print(\"Triangle is valid\")\n",
    "else:\n",
    "    print(\"Invalid Triangle\")"
   ]
  },
  {
   "cell_type": "markdown",
   "metadata": {},
   "source": [
    "A company decided to give a bonus of 5% to an employee if his/her years of service is more than five years. Write a program that reads an employee's salary and years of service and decides whether the employee gets the bonus or not. "
   ]
  },
  {
   "cell_type": "code",
   "execution_count": 11,
   "metadata": {},
   "outputs": [
    {
     "name": "stdout",
     "output_type": "stream",
     "text": [
      "Employee gets bonus - 500.0\n"
     ]
    }
   ],
   "source": [
    "emp_sal = int(input(\"Enter employee salary: \"))\n",
    "yrs_of_service = int(input(\"Enter number of years: \"))\n",
    "\n",
    "if yrs_of_service > 5:\n",
    "    print(\"Employee gets bonus -\",emp_sal*0.05)\n",
    "else:\n",
    "    print(\"Employee not eligible for bonus\")"
   ]
  },
  {
   "cell_type": "markdown",
   "metadata": {},
   "source": [
    "Write a program that reads a two-digit number N and checks if any of the given conditions is satisfied \n",
    "\n",
    "a. The sum of digits of N is equal to 7 \n",
    "\n",
    "b. One of the digits of N is equal to 7 \n",
    "\n",
    "c. N is divisible by 7 \n",
    "\n",
    "d. Print \"Special Number if any of the given conditions is satisfied. Otherwise, print 'Normal Number' "
   ]
  },
  {
   "cell_type": "code",
   "execution_count": 12,
   "metadata": {},
   "outputs": [
    {
     "name": "stdout",
     "output_type": "stream",
     "text": [
      "Special Number\n"
     ]
    }
   ],
   "source": [
    "N = int(input(\"Enter a 2 digit positive integer: \"))\n",
    "ones = N % 10\n",
    "tens = N // 10\n",
    "\n",
    "if ((ones+tens) == 7 ) or (ones == 7 or tens == 7) or (N%7 == 0):\n",
    "    print(\"Special Number\")\n",
    "else:\n",
    "    print(\"Normal number\")"
   ]
  },
  {
   "cell_type": "markdown",
   "metadata": {},
   "source": [
    "Write a Program that read a string S and checks if all the given conditions are satisfied \n",
    "\n",
    "a. The first three characters of S is NXT \n",
    "\n",
    "b. The remaining Characters of S contain a Number. Number is divisible by 2 or 7 \n",
    "\n",
    "c. Print 'Special String' f any of the given conditions is satisfied. Otherwise, print 'Not a Special String' "
   ]
  },
  {
   "cell_type": "code",
   "execution_count": 14,
   "metadata": {},
   "outputs": [
    {
     "name": "stdout",
     "output_type": "stream",
     "text": [
      "Given String:  NXT124\n",
      "Special string\n"
     ]
    }
   ],
   "source": [
    "S = input(\"Enter a string: \")\n",
    "print(\"Given String: \",S)\n",
    "num = int(S[3:])\n",
    "if (S[:3] == 'NXT') or (num%2 == 0) or (num%7 == 0):\n",
    "    print(\"Special string\")\n",
    "else:\n",
    "    print(\"Not a special string\")"
   ]
  },
  {
   "cell_type": "markdown",
   "metadata": {},
   "source": [
    "Write a Program that read a number N and checks if the last digit of N is equal to the last digit of the square of N "
   ]
  },
  {
   "cell_type": "code",
   "execution_count": 15,
   "metadata": {},
   "outputs": [
    {
     "name": "stdout",
     "output_type": "stream",
     "text": [
      "Not Equal\n"
     ]
    }
   ],
   "source": [
    "N = int(input(\"Enter N value: \"))\n",
    "N_Sq = N * N\n",
    "\n",
    "if N % 10 == N_Sq % 10:\n",
    "    print(\"Equal\")\n",
    "else:\n",
    "    print(\"Not Equal\")"
   ]
  },
  {
   "cell_type": "markdown",
   "metadata": {},
   "source": [
    "Write a program that reads two numbers A and B, and checks if sum of squares of A and B is greater than or equals to 60. "
   ]
  },
  {
   "cell_type": "code",
   "execution_count": 21,
   "metadata": {},
   "outputs": [
    {
     "name": "stdout",
     "output_type": "stream",
     "text": [
      "Condition not satisfied\n"
     ]
    }
   ],
   "source": [
    "A = int(input(\"Enter A value: \"))\n",
    "B = int(input(\"Enter B value: \"))\n",
    "\n",
    "A1 = A * A\n",
    "B1 = B * B\n",
    "\n",
    "if (A1 + B1) >= 60:\n",
    "    print(\"Condtion satisfied\")\n",
    "else:\n",
    "    print(\"Condition not satisfied\")"
   ]
  },
  {
   "cell_type": "markdown",
   "metadata": {},
   "source": [
    "## Advanced\n",
    "\n",
    "In this problem, you need to write a program to calculate the electricity bill for a household, based on the units of electricity the household consumed. The price for unit varies based on the slab. \n",
    "\n",
    "The charges per unit for different slabs are as mentioned below: \n",
    "\n",
    "For the first 50 units (0-50), the charge is 2/unit For the next 100 units (51-150), the charge is 3/unit For the next 100 units (151-250), the charge is 5/unit For above 250 units (251 and above), the charge is 8/unit \n",
    "\n",
    "Apart from these charges, there is also an additional surcharge of 20% on the total amount is added to the bill. "
   ]
  },
  {
   "cell_type": "code",
   "execution_count": 8,
   "metadata": {},
   "outputs": [
    {
     "name": "stdout",
     "output_type": "stream",
     "text": [
      "Total price:  300.0\n"
     ]
    }
   ],
   "source": [
    "units = int(input(\"Enter the units: \"))\n",
    "price = 0\n",
    "if units > 0 and units <= 50:\n",
    "    price += units * 2\n",
    "elif units > 50 and units <= 150:\n",
    "    price += (units-50) * 3\n",
    "elif units > 150 and units <= 250:\n",
    "    price += (units-150) * 5\n",
    "else:\n",
    "    price += (units-250) * 8\n",
    "print(\"Total price: \",price*1.2)"
   ]
  },
  {
   "cell_type": "code",
   "execution_count": null,
   "metadata": {},
   "outputs": [],
   "source": [
    "units = int(input(\"Enter the units: \"))\n",
    "price = 0\n",
    "if units > 0 and units <= 50:\n",
    "    price += units * 2\n",
    "elif units > 50 and units <= 150:\n",
    "    price += (units-50) * 3\n",
    "elif units > 150 and units <= 250:\n",
    "    price += (units-150) * 5\n",
    "else:\n",
    "    price += (units-250) * 8\n",
    "print(\"Total price: \",price*1.2)"
   ]
  },
  {
   "cell_type": "markdown",
   "metadata": {},
   "source": [
    "Write a program that reads an amount A and prints the minimum number of 500,50,10 and 1 rupee notes required for the given amount. "
   ]
  },
  {
   "cell_type": "code",
   "execution_count": 7,
   "metadata": {},
   "outputs": [
    {
     "name": "stdout",
     "output_type": "stream",
     "text": [
      "Five Hundred: 3  Fifty: 1  Tens: 3  Ones: 6\n"
     ]
    }
   ],
   "source": [
    "A = int(input(\"Enter the amount: \"))\n",
    "\n",
    "fh = fifty = ten = one = 0\n",
    "\n",
    "fh = A // 500\n",
    "fifty = (A-(500*fh)) // 50\n",
    "ten = (A-(500*fh)-(50*fifty)) // 10\n",
    "one = (A-(500*fh)-(50*fifty)-(10*ten))\n",
    "\n",
    "print(\"Five Hundred:\",fh,\" Fifty:\",fifty,\" Tens:\",ten,\" Ones:\",one)"
   ]
  }
 ],
 "metadata": {
  "kernelspec": {
   "display_name": "Python 3",
   "language": "python",
   "name": "python3"
  },
  "language_info": {
   "codemirror_mode": {
    "name": "ipython",
    "version": 3
   },
   "file_extension": ".py",
   "mimetype": "text/x-python",
   "name": "python",
   "nbconvert_exporter": "python",
   "pygments_lexer": "ipython3",
   "version": "3.12.3"
  }
 },
 "nbformat": 4,
 "nbformat_minor": 2
}

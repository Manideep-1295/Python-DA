{
 "cells": [
  {
   "cell_type": "code",
   "execution_count": 24,
   "metadata": {},
   "outputs": [
    {
     "name": "stdout",
     "output_type": "stream",
     "text": [
      "10\n",
      "str\n",
      "1.2\n",
      "True\n",
      "<class 'int'>\n",
      "<class 'str'>\n",
      "<class 'float'>\n",
      "<class 'bool'>\n"
     ]
    }
   ],
   "source": [
    "a =10\n",
    "b =  'str'\n",
    "c = 1.2\n",
    "d = True\n",
    "print(a)\n",
    "print(b)\n",
    "print(c)\n",
    "print(d)\n",
    "print(type(a))\n",
    "print(type(b))\n",
    "print(type(c))\n",
    "print(type(d))\n",
    "\n"
   ]
  },
  {
   "cell_type": "code",
   "execution_count": 44,
   "metadata": {},
   "outputs": [
    {
     "data": {
      "text/plain": [
       "(['hi', 3, 2, 1], None)"
      ]
     },
     "execution_count": 44,
     "metadata": {},
     "output_type": "execute_result"
    }
   ],
   "source": [
    "#List\n",
    "\n",
    "l = [1,'a',0.1]\n",
    "\n",
    "# List methods\n",
    "\n",
    "l.append(10) # Takes value as arg and adds to the last of list\n",
    "l.insert(2,20) # Takes 2 args, (pos,val)\n",
    "l.remove(20) # Takes values as arg\n",
    "l.pop(3) # Takes index as arg\n",
    "l\n",
    "li = l.copy() # To copy a list to another variable\n",
    "l,li\n",
    "l.extend(li) # To add list2 to list1\n",
    "l\n",
    "a = l+li\n",
    "\n",
    "\n",
    "\n",
    "b = [1,2,3,'hi']\n",
    "d = b.reverse()\n",
    "b,d"
   ]
  },
  {
   "cell_type": "code",
   "execution_count": 46,
   "metadata": {},
   "outputs": [
    {
     "name": "stdout",
     "output_type": "stream",
     "text": [
      "2\n",
      "0\n"
     ]
    }
   ],
   "source": [
    "# Tuple\n",
    "# Insertion order, can contain duplicates\n",
    "t = ()\n",
    "t = (1,2,3,4,1,2)\n",
    "t\n",
    "\n",
    "print(t[1])\n",
    "print(t.index(1))"
   ]
  },
  {
   "cell_type": "code",
   "execution_count": 36,
   "metadata": {},
   "outputs": [
    {
     "name": "stdout",
     "output_type": "stream",
     "text": [
      "1\n",
      "2\n",
      "3\n",
      "100\n",
      "200\n",
      "300\n"
     ]
    }
   ],
   "source": [
    "# Set\n",
    "# No duplicates, Unordered Collection, No indexing\n",
    "s = {}\n",
    "s = {1,2,3,100,200,300}\n",
    "s\n",
    "# Can iterate through sets\n",
    "for i in s:\n",
    "    print(i)\n",
    "# BUT not subscriptable"
   ]
  },
  {
   "cell_type": "code",
   "execution_count": 6,
   "metadata": {},
   "outputs": [
    {
     "name": "stdout",
     "output_type": "stream",
     "text": [
      "c\n",
      "<class 'dict'>\n",
      "1 2 3 4 dict_items([(1, 'a'), (2, 'b'), (3, 'c'), (4, 'd')])\n"
     ]
    },
    {
     "data": {
      "text/plain": [
       "{1: 'c'}"
      ]
     },
     "execution_count": 6,
     "metadata": {},
     "output_type": "execute_result"
    }
   ],
   "source": [
    "# dict --- Key Value pair\n",
    "d = {1:'a',2:'b',3:'c'}\n",
    "\n",
    "print(d[3])\n",
    "d[4] = 'd' #If there is no key, it will create a new value\n",
    "d\n",
    "print(type(d))\n",
    "\n",
    "k = d.keys()\n",
    "v = d.values()\n",
    "it = d.items()\n",
    "for i in k:\n",
    "    print(i, end=\" \")\n",
    "\n",
    "print(it)\n",
    "\n",
    "d1 = {1:'a',1:'b',1:'c'}\n",
    "d1"
   ]
  }
 ],
 "metadata": {
  "kernelspec": {
   "display_name": "Python 3",
   "language": "python",
   "name": "python3"
  },
  "language_info": {
   "codemirror_mode": {
    "name": "ipython",
    "version": 3
   },
   "file_extension": ".py",
   "mimetype": "text/x-python",
   "name": "python",
   "nbconvert_exporter": "python",
   "pygments_lexer": "ipython3",
   "version": "3.12.3"
  }
 },
 "nbformat": 4,
 "nbformat_minor": 2
}

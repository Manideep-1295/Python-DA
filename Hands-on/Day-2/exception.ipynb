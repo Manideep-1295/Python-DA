{
 "cells": [
  {
   "cell_type": "markdown",
   "metadata": {},
   "source": [
    "Handle exception in number \n",
    "\n",
    "Problem statement:  \n",
    "\n",
    "Get the input String from user and parse it to integer, if it is not a number it will throw  \n",
    "\n",
    "number format exception Catch it and print \"Entered input is not a valid format for an integer.\" \n",
    "\n",
    "or else print the square of that number. (Refer Sample Input and Output).  \n",
    "\n",
    "Sample input and output 1:  \n",
    "\n",
    "Enter an integer: 12 \n",
    "\n",
    "The square value is 144 \n",
    "\n",
    "The work has been done successfully \n",
    "\n",
    "Sample input and output 2: \n",
    "\n",
    "Enter an integer: Java \n",
    "\n",
    "Entered input is not a valid format for an integer. "
   ]
  },
  {
   "cell_type": "code",
   "execution_count": 14,
   "metadata": {},
   "outputs": [
    {
     "name": "stdout",
     "output_type": "stream",
     "text": [
      "Entered input is not a valid format for an integer.\n"
     ]
    }
   ],
   "source": [
    "class NumberFormatException(Exception):\n",
    "    def __init__(self,value):\n",
    "        pass\n",
    "\n",
    "class Sample:\n",
    "    def square(self,value):\n",
    "        if not value.isdigit():\n",
    "            raise NumberFormatException(\"Entered input is not a valid format for an integer.\")\n",
    "        else:\n",
    "            print(int(value)**2)\n",
    "try:\n",
    "    value = input(\"Enter value: \")\n",
    "    objSample = Sample()\n",
    "    objSample.square(value)\n",
    "except NumberFormatException as nfe:\n",
    "    print(nfe)"
   ]
  },
  {
   "cell_type": "markdown",
   "metadata": {},
   "source": [
    "Write a program that takes as input the size of the array and the elements in the array.  \n",
    "\n",
    "The program then asks the user to enter a particular index and prints the element at that index.  \n",
    "\n",
    "Index  starts from zero.  \n",
    "\n",
    " \n",
    "\n",
    " This program may generate Array Index Out Of Bounds Exception  or NumberFormatException.   \n",
    "\n",
    " Use exception handling mechanisms to handle this exception.  \n",
    "\n",
    " \n",
    "\n",
    "Sample Input and Output 1: \n",
    "\n",
    "Enter the number of elements in the array \n",
    "\n",
    "2 \n",
    "\n",
    "Enter the elements in the array \n",
    "\n",
    "50 \n",
    "\n",
    "80 \n",
    "\n",
    "Enter the index of the array element you want to access \n",
    "\n",
    "1 \n",
    "\n",
    "The array element at index 1 = 80 \n",
    "\n",
    "The array element successfully accessed \n",
    "\n",
    " \n",
    "\n",
    " \n",
    "\n",
    " Sample Input and Output 2: \n",
    "\n",
    "Enter the number of elements in the array \n",
    "\n",
    "2 \n",
    "\n",
    "Enter the elements in the array \n",
    "\n",
    "50 \n",
    "\n",
    "80 \n",
    "\n",
    "Enter the index of the array element you want to access \n",
    "\n",
    "9 \n",
    "\n",
    "java.lang.ArrayIndexOutOfBoundsException \n",
    "\n",
    " \n",
    "\n",
    " \n",
    "\n",
    " Sample Input and Output 3: \n",
    "\n",
    "Enter the number of elements in the array \n",
    "\n",
    "2 \n",
    "\n",
    "Enter the elements in the array \n",
    "\n",
    "30 \n",
    "\n",
    "j \n",
    "\n",
    "java.lang.NumberFormatException "
   ]
  },
  {
   "cell_type": "code",
   "execution_count": 16,
   "metadata": {},
   "outputs": [
    {
     "name": "stdout",
     "output_type": "stream",
     "text": [
      "Accessing index is out of range\n"
     ]
    }
   ],
   "source": [
    "class IndexOutOfBoundsError(Exception):\n",
    "    def __init__(self,error):\n",
    "        pass\n",
    "\n",
    "\n",
    "class Sample:\n",
    "    def __init__(self):\n",
    "        pass\n",
    "    def access(self,N,L):\n",
    "        idx = int(input(\"Enter the index: \"))\n",
    "        if idx > N:\n",
    "            raise IndexOutOfBoundsError(\"Accessing index is out of range\")\n",
    "        else:\n",
    "            print(L[idx])\n",
    "\n",
    "try:\n",
    "    N = int(input(\"Enter N value: \"))\n",
    "    L = []\n",
    "    for i in range(N):\n",
    "        x = input(f\"Enter {i}th element in list: \")\n",
    "        if x.isdigit():\n",
    "            L.append(int(x))\n",
    "        else:\n",
    "            raise NumberFormatException(\"Entered input is not a valid integer\")\n",
    "    obj = Sample()\n",
    "    # obj.array()\n",
    "    obj.access(N,L)\n",
    "except NumberFormatException as nfe:\n",
    "    print(nfe)\n",
    "except IndexOutOfBoundsError as idbe:\n",
    "    print(idbe)\n",
    "        "
   ]
  },
  {
   "cell_type": "markdown",
   "metadata": {},
   "source": [
    "Write a Program to take care of Number Format Exception if user enters values other than  \n",
    "\n",
    "integer for calculating average marks of 2 students. The name of the students and marks  \n",
    "\n",
    "in 3 subjects are taken from the user while executing the program. \n",
    "\n",
    "In the same Program write your own Exception classes to take care of Negative values and  \n",
    "\n",
    "values out of range (i.e. other than in the range of 0-100) "
   ]
  },
  {
   "cell_type": "code",
   "execution_count": null,
   "metadata": {},
   "outputs": [],
   "source": [
    "class ValueOutofRange(Exception):\n",
    "    def __init__(self):\n",
    "        pass\n",
    "\n",
    "class NegativeNumber(Exception):\n",
    "    def __init__(self):\n",
    "        pass\n",
    "class Student:\n",
    "    def subjects(self):\n",
    "        for i in range(3):\n",
    "            S = dict(map(input(\"Enter the student name and mark\")))\n",
    "\n",
    "\n",
    "\n"
   ]
  },
  {
   "cell_type": "code",
   "execution_count": 25,
   "metadata": {},
   "outputs": [
    {
     "name": "stdout",
     "output_type": "stream",
     "text": [
      "{'mani': [12, 3, 2]}\n"
     ]
    }
   ],
   "source": [
    "def marks():\n",
    "    dict = {}\n",
    "    L = list(map(str,input(\"Enter student names: Use spaces\").split()))\n",
    "    for i in L:\n",
    "        dict[i] = list(map(int,input(\"Enter marks in 3 subs: Give space\").split()))\n",
    "    print(dict)\n",
    "\n",
    "marks()"
   ]
  },
  {
   "cell_type": "markdown",
   "metadata": {},
   "source": [
    "A student portal provides user to register their profile. During registration the system needs  \n",
    "\n",
    "to validate the user should be located in India. If not the system should throw an exception. \n",
    "\n",
    "Step 1: Create a user defined exception class named “InvalidCountryException”. \n",
    "\n",
    "Step 2: Overload the respective constructors. \n",
    "\n",
    "Step 3: Create a main class “UserRegistration”, add the following method, \n",
    "\n",
    "registerUser– The parameter are String username,String userCountry and add the following logic, \n",
    "\n",
    "• if userCountry is not equal to  “India” throw a InvalidCountryException with the message  \n",
    "\n",
    "“User Outside India  cannot be registered” \n",
    "\n",
    "• if userCountry is equal to  “India”,  print the message “User registration done successfully” \n",
    "\n",
    "Invoke the method registerUser from the main method with the data specified and see how the program behaves, \n",
    "\n",
    "Name Country Expected Output \n",
    "\n",
    "Mickey US InvalidCountryException should be thrown. \n",
    "\n",
    " The message should be “User Outside India  cannot be registered” \n",
    "\n",
    "Mini India The message should be “User registration done successfully” \n",
    "\n",
    "Sample Input and Output \n",
    "\n",
    " "
   ]
  }
 ],
 "metadata": {
  "kernelspec": {
   "display_name": "Python 3",
   "language": "python",
   "name": "python3"
  },
  "language_info": {
   "codemirror_mode": {
    "name": "ipython",
    "version": 3
   },
   "file_extension": ".py",
   "mimetype": "text/x-python",
   "name": "python",
   "nbconvert_exporter": "python",
   "pygments_lexer": "ipython3",
   "version": "3.12.3"
  }
 },
 "nbformat": 4,
 "nbformat_minor": 2
}

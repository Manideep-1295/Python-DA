{
 "cells": [
  {
   "cell_type": "markdown",
   "metadata": {},
   "source": [
    "Write a program with a function that the function will multiply the number N with three. \n"
   ]
  },
  {
   "cell_type": "code",
   "execution_count": 2,
   "metadata": {},
   "outputs": [
    {
     "name": "stdout",
     "output_type": "stream",
     "text": [
      "Result of 3 is:  9\n"
     ]
    }
   ],
   "source": [
    "def multiplyBy3(N):\n",
    "    return N * 3\n",
    "\n",
    "N = int(input(\"Enter N value: \"))\n",
    "print(f\"Result of {N} is: \",multiplyBy3(N))"
   ]
  },
  {
   "cell_type": "markdown",
   "metadata": {},
   "source": [
    "Write a program with a function that the function will check if the number N is divisible by 7. "
   ]
  },
  {
   "cell_type": "code",
   "execution_count": 4,
   "metadata": {},
   "outputs": [
    {
     "name": "stdout",
     "output_type": "stream",
     "text": [
      "7 is divisible by 7\n"
     ]
    }
   ],
   "source": [
    "def divisibleBy7(num):\n",
    "    if num % 7 == 0:\n",
    "        print(f\"{num} is divisible by 7\")\n",
    "    else:\n",
    "        print(print(f\"{num} is not divisible by 7\"))\n",
    "\n",
    "N = int(input(\"Enter N value: \"))\n",
    "divisibleBy7(N)"
   ]
  },
  {
   "cell_type": "markdown",
   "metadata": {},
   "source": [
    "Write a function that takes a number N as an argument. \n",
    "- Write a program that checks if N is between 200 and 500. \n",
    "- Print Yes if N is between 200 and 500. Otherwise, print No. "
   ]
  },
  {
   "cell_type": "code",
   "execution_count": 6,
   "metadata": {},
   "outputs": [
    {
     "name": "stdout",
     "output_type": "stream",
     "text": [
      "30 is not in range\n"
     ]
    }
   ],
   "source": [
    "def checkRange(N):\n",
    "    if N >= 200 and N <= 500:\n",
    "        print(f\"{N} is between 200 and 500\")\n",
    "    else:\n",
    "        print(f\"{N} is not in range\")\n",
    "\n",
    "N = int(input(\"Enter N value: \"))\n",
    "checkRange(N)"
   ]
  },
  {
   "cell_type": "markdown",
   "metadata": {},
   "source": [
    "Write a function with the name get_discount that takes the bill amount as an argument. \n",
    "\n",
    "- If the bill amount is less than 500, the discount should be \"5%\". \n",
    "\n",
    "- If the bill amount is greater than or equal to 500 and less than 2500, the discount should be \"10%\" \n",
    "\n",
    "- If the bill amount is greater than or equal to 2500, the discount should be \"20%\" "
   ]
  },
  {
   "cell_type": "code",
   "execution_count": 7,
   "metadata": {},
   "outputs": [
    {
     "name": "stdout",
     "output_type": "stream",
     "text": [
      "Bill Amount: 450.0\n"
     ]
    }
   ],
   "source": [
    "def get_discount(bill_amt):\n",
    "    if bill_amt < 500: \n",
    "        print(f\"Bill Amount: {bill_amt - (bill_amt*0.05)}\")\n",
    "    elif bill_amt >= 500 and bill_amt <= 2500:\n",
    "        print(f\"Bill Amount: {bill_amt - (bill_amt*0.1)}\")\n",
    "    else:\n",
    "        print(f\"Bill Amount: {bill_amt - (bill_amt*0.2)}\")\n",
    "\n",
    "bill = float(input(\"Enter bill amount: \"))\n",
    "get_discount(bill)"
   ]
  },
  {
   "cell_type": "markdown",
   "metadata": {},
   "source": [
    "Write a function with the name show_number that takes a number N and print all the numbers from 0 to N with a label to identify the even and odd numbers. "
   ]
  },
  {
   "cell_type": "code",
   "execution_count": 9,
   "metadata": {},
   "outputs": [
    {
     "name": "stdout",
     "output_type": "stream",
     "text": [
      "Odd - 1\n",
      "Even - 2\n",
      "Odd - 3\n",
      "Even - 4\n",
      "Odd - 5\n"
     ]
    }
   ],
   "source": [
    "def show_number(N):\n",
    "    for i in range(1,N+1):\n",
    "        if i%2 != 0:\n",
    "            print(\"Odd -\",i)\n",
    "        else:\n",
    "            print(\"Even -\",i)\n",
    "\n",
    "N = int(input(\"Enter N value: \"))\n",
    "show_number(N)"
   ]
  },
  {
   "cell_type": "markdown",
   "metadata": {},
   "source": [
    "Write a program with a function name as func() to return the value passwd to the function."
   ]
  },
  {
   "cell_type": "code",
   "execution_count": 10,
   "metadata": {},
   "outputs": [
    {
     "data": {
      "text/plain": [
       "10"
      ]
     },
     "execution_count": 10,
     "metadata": {},
     "output_type": "execute_result"
    }
   ],
   "source": [
    "def func(value):\n",
    "    return value\n",
    "\n",
    "func(10)"
   ]
  },
  {
   "cell_type": "markdown",
   "metadata": {},
   "source": [
    "For the problem , the prefilled code will contain a function. Write a program that the given function will return the perimeter of the square. \n",
    "\n",
    "The sum of the lengths of the four sides of square is the perimeter of the square. \n",
    "\n",
    "( \n",
    "\n",
    "def perimeter_of_square(arg_1): \n",
    "\n",
    "    # Write your code here \n",
    "\n",
    " \n",
    "\n",
    "side = int(input()) \n",
    "\n",
    "result = perimeter_of_square(side) \n",
    "\n",
    "print(result) \n",
    "\n",
    " \n",
    "\n",
    ") "
   ]
  },
  {
   "cell_type": "code",
   "execution_count": 11,
   "metadata": {},
   "outputs": [
    {
     "name": "stdout",
     "output_type": "stream",
     "text": [
      "16\n"
     ]
    }
   ],
   "source": [
    "def perimeter_of_square(arg_1): \n",
    "    # Write your code here \n",
    "    return arg_1*4\n",
    "\n",
    "\n",
    "side = int(input()) \n",
    "result = perimeter_of_square(side) \n",
    "print(result) "
   ]
  },
  {
   "cell_type": "markdown",
   "metadata": {},
   "source": [
    "A function is given in prefilled code that takes a number N as an argument. \n",
    "\n",
    "- Write a program that checks if N is less than 1000 \n",
    "\n",
    "- Return 5% of the N if N is less than 1000. Otherwise, return 10% of the N. \n",
    "\n",
    "{ \n",
    "\n",
    "def calculate_percentage(number): \n",
    "\n",
    "     \n",
    "\n",
    "    # complete this function \n",
    "\n",
    " \n",
    "\n",
    "number = int(input()) \n",
    "\n",
    "result = # Call the calculate_percentage function \n",
    "\n",
    "print(result) \n",
    "\n",
    " \n",
    "\n",
    "} "
   ]
  },
  {
   "cell_type": "code",
   "execution_count": 12,
   "metadata": {},
   "outputs": [
    {
     "name": "stdout",
     "output_type": "stream",
     "text": [
      "25.0\n"
     ]
    }
   ],
   "source": [
    "def calculate_percentage(n): \n",
    "    # complete this function \n",
    "    if n < 1000:\n",
    "        return n * 0.05\n",
    "    else:\n",
    "        return n * 0.1\n",
    " \n",
    "\n",
    "number = int(input()) \n",
    "result = calculate_percentage(number)\n",
    "print(result) "
   ]
  },
  {
   "cell_type": "markdown",
   "metadata": {},
   "source": [
    "Write a function with the name get_speed_status that takes the speed(S) as an argument. \n",
    "\n",
    "- If the speed is less than 60, it should return \"Normal\" \n",
    "\n",
    "- If the speed is greater than or equal to 60 and less than 80, it should return \"Warning\" \n",
    "\n",
    "- If the speed is greater than or equal to 80, it should return \"Over Speed\" \n",
    "\n",
    "{ \n",
    "\n",
    "def get_speed_status(speed): \n",
    "\n",
    "    # Complete this function \n",
    "\n",
    " \n",
    "\n",
    "speed = int(input()) \n",
    "\n",
    "### Call the get_speed_status function \n",
    "\n",
    " \n",
    "\n",
    "} "
   ]
  },
  {
   "cell_type": "code",
   "execution_count": 13,
   "metadata": {},
   "outputs": [
    {
     "name": "stdout",
     "output_type": "stream",
     "text": [
      "Warning\n"
     ]
    }
   ],
   "source": [
    "def get_speed_status(s):\n",
    "    if s < 60:\n",
    "        return \"Normal\"\n",
    "    elif s >= 60 and s < 80:\n",
    "        return \"Warning\"\n",
    "    else:\n",
    "        return \"Over Speed\"\n",
    "\n",
    "speed = float(input(\"Enter speed: \"))\n",
    "print(get_speed_status(speed))"
   ]
  },
  {
   "cell_type": "markdown",
   "metadata": {},
   "source": [
    "A function is given in prefilled code that takes a string S as an argument. \n",
    "\n",
    "Write a program that prints the count of uppercase letters in the given string S. \n",
    "\n",
    "```py\n",
    "{ \n",
    " def count_of_uppercase(word): \n",
    "    # complete this function \n",
    "\n",
    "word = input() \n",
    "result = # Call the count_of_uppercase function \n",
    "print(result) \n",
    "} \n",
    "```"
   ]
  },
  {
   "cell_type": "code",
   "execution_count": 19,
   "metadata": {},
   "outputs": [
    {
     "name": "stdout",
     "output_type": "stream",
     "text": [
      "4\n"
     ]
    }
   ],
   "source": [
    "def count_of_uppercase(word): \n",
    "    # complete this function \n",
    "    count = 0\n",
    "    for i in word:\n",
    "        if i.isupper():\n",
    "            count += 1\n",
    "    return count\n",
    "\n",
    "word = input() \n",
    "# s = \"Hi Im ManiDeep\"\n",
    "result = count_of_uppercase(word)\n",
    "print(result) "
   ]
  },
  {
   "cell_type": "markdown",
   "metadata": {},
   "source": [
    "Write a function with the name validate_atm_pin_code that takes a word as an argument. \n",
    "\n",
    "ATM PIN is considered only if the given word contains \n",
    "\n",
    "- Exactly 4 or 6 characters \n",
    "\n",
    "- All the characters should be digits \n",
    "\n",
    "Explanation \n",
    "\n",
    "----- \n",
    "\n",
    "For Example \"2345\" is just an number and it is a valid number with digits. \n",
    "\n",
    "If it is ab4534j then it is not just an number and it is not a valid string. \n",
    "\n",
    "```py\n",
    "{ \n",
    "\n",
    "def validate_atm_pin_code(pin): \n",
    "\n",
    "    # Complete this function \n",
    "\n",
    " \n",
    "\n",
    "pin = input() \n",
    "\n",
    "# Call the validate_atm_pin_code function \n",
    "\n",
    "} \n",
    "```"
   ]
  },
  {
   "cell_type": "code",
   "execution_count": 25,
   "metadata": {},
   "outputs": [
    {
     "name": "stdout",
     "output_type": "stream",
     "text": [
      "Valid\n"
     ]
    }
   ],
   "source": [
    "def validate_atm_pin_code(pin): \n",
    "    # Complete this function \n",
    "    try:\n",
    "        if int(pin) and (len(pin) > 3 and len(pin) < 7):\n",
    "            return \"Valid\"\n",
    "        else:\n",
    "            return \"Invalid\"\n",
    "    except Exception:\n",
    "        print(\"invalid String\")\n",
    "\n",
    " \n",
    "\n",
    "pin = input() \n",
    "print(validate_atm_pin_code(pin))"
   ]
  }
 ],
 "metadata": {
  "kernelspec": {
   "display_name": "Python 3",
   "language": "python",
   "name": "python3"
  },
  "language_info": {
   "codemirror_mode": {
    "name": "ipython",
    "version": 3
   },
   "file_extension": ".py",
   "mimetype": "text/x-python",
   "name": "python",
   "nbconvert_exporter": "python",
   "pygments_lexer": "ipython3",
   "version": "3.12.3"
  }
 },
 "nbformat": 4,
 "nbformat_minor": 2
}

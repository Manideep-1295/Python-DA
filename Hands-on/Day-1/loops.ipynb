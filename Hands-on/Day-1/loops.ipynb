{
 "cells": [
  {
   "cell_type": "markdown",
   "metadata": {},
   "source": [
    "Given two integers M and N , write a program to print the integers from M and N. "
   ]
  },
  {
   "cell_type": "code",
   "execution_count": 26,
   "metadata": {},
   "outputs": [
    {
     "name": "stdout",
     "output_type": "stream",
     "text": [
      "1 2 3 4 5 6 "
     ]
    }
   ],
   "source": [
    "M = int(input(\"Enter lower bound range: \"))\n",
    "N = int(input(\"Enter upper bound range: \"))\n",
    "\n",
    "for i in range(M,N+1):\n",
    "    print(i, end = \" \")"
   ]
  },
  {
   "cell_type": "markdown",
   "metadata": {},
   "source": [
    "Write a program that reads a number N and prints the average of N numbers from 1. "
   ]
  },
  {
   "cell_type": "code",
   "execution_count": 24,
   "metadata": {},
   "outputs": [
    {
     "name": "stdout",
     "output_type": "stream",
     "text": [
      "1 2 3 4 5 Average of given 5 numbers:  3.0\n"
     ]
    }
   ],
   "source": [
    "N = int(input(\"Enter N value: \"))\n",
    "\n",
    "res = 0\n",
    "for i in range(1,N+1):\n",
    "    print(i, end = \" \")\n",
    "    res += i\n",
    "print(f\"Average of given {N} numbers: \",res/N)\n"
   ]
  },
  {
   "cell_type": "markdown",
   "metadata": {},
   "source": [
    "Given two integers M and N , write a program to print a solid rectangle pattern  of M rows and N columns using the hash character (#) "
   ]
  },
  {
   "cell_type": "code",
   "execution_count": 20,
   "metadata": {},
   "outputs": [
    {
     "name": "stdout",
     "output_type": "stream",
     "text": [
      "# # # # \n",
      "# # # # \n",
      "# # # # \n"
     ]
    }
   ],
   "source": [
    "M = int(input(\"Enter no. of rows: \"))\n",
    "N = int(input(\"Enter no. of columns: \"))\n",
    "\n",
    "for i in range(M):\n",
    "    for i in range(N):\n",
    "        print(\"#\",end = \" \")\n",
    "    print()"
   ]
  },
  {
   "cell_type": "markdown",
   "metadata": {},
   "source": [
    "Write Program that reads a number M and N and prints N numbers after M. "
   ]
  },
  {
   "cell_type": "code",
   "execution_count": 25,
   "metadata": {},
   "outputs": [
    {
     "name": "stdout",
     "output_type": "stream",
     "text": [
      "1 2 3 4 5 6 "
     ]
    }
   ],
   "source": [
    "M = int(input(\"Enter lower bound range: \"))\n",
    "N = int(input(\"Enter no. of integers to repeat after M: \"))\n",
    "\n",
    "for i in range(M,M+N+1):\n",
    "    print(i, end = \" \")"
   ]
  },
  {
   "cell_type": "markdown",
   "metadata": {},
   "source": [
    "Given an integer N , write a program which reads N inputs and prints the sum of the given input number. "
   ]
  },
  {
   "cell_type": "code",
   "execution_count": 4,
   "metadata": {},
   "outputs": [
    {
     "name": "stdout",
     "output_type": "stream",
     "text": [
      "Given Number is: 3\n",
      "Given Number is: 5\n",
      "Sum of given 2 numbers : 8\n"
     ]
    }
   ],
   "source": [
    "N = int(input(\"Enter N value: \"))\n",
    "res = 0\n",
    "t = N\n",
    "while(t):\n",
    "    inp = int(input(\"Enter a value: \"))\n",
    "    print(\"Given Number is:\",inp)\n",
    "    res += inp\n",
    "    t -= 1\n",
    "print(f\"Sum of given {N} numbers :\", res)"
   ]
  },
  {
   "cell_type": "markdown",
   "metadata": {},
   "source": [
    "Write a program that reads a number N and prints two Right Angled Triangles of N Rows , using numbers starting from 1. "
   ]
  },
  {
   "cell_type": "code",
   "execution_count": 11,
   "metadata": {},
   "outputs": [
    {
     "name": "stdout",
     "output_type": "stream",
     "text": [
      "1 \n",
      "2 2 \n",
      "3 3 3 \n",
      "4 4 4 4 \n",
      "1 \n",
      "2 2 \n",
      "3 3 3 \n",
      "4 4 4 4 \n"
     ]
    }
   ],
   "source": [
    "N = int(input(\"Enter N value: \"))\n",
    "\n",
    "for i in range(1,N+1):\n",
    "    for j in range(1,N+1):\n",
    "        if i>=j:\n",
    "            print(i, end=\" \")\n",
    "    print()\n",
    "for i in range(1,N+1):\n",
    "    for j in range(1,N+1):\n",
    "        if i>=j:\n",
    "            print(i, end=\" \")\n",
    "    print()"
   ]
  },
  {
   "cell_type": "markdown",
   "metadata": {},
   "source": [
    "Write a program that reads a number N and prints the sum of squares of N numbers starting from 1. \n",
    "\n",
    "Explanation: if the N=4 \n",
    "\n",
    "The 4 numbers starting from 4 are 1,2,3,4 \n",
    "\n",
    "Squares of those numbers are 1,4,9,16 \n",
    "\n",
    "Sum of squares are 1+4+9+16=30 \n",
    "\n",
    "Output should be 30. "
   ]
  },
  {
   "cell_type": "code",
   "execution_count": 18,
   "metadata": {},
   "outputs": [
    {
     "name": "stdout",
     "output_type": "stream",
     "text": [
      "Value at index - 1\n",
      "Square value for corresponding index 1 is 1\n",
      "Value at index - 2\n",
      "Square value for corresponding index 2 is 4\n",
      "Value at index - 3\n",
      "Square value for corresponding index 3 is 9\n",
      "Value at index - 4\n",
      "Square value for corresponding index 4 is 16\n",
      "Sum of squares of the given range of numbers is 30\n"
     ]
    }
   ],
   "source": [
    "N = int(input(\"Enter N value: \"))\n",
    "L = list(range(1,N+1))\n",
    "\n",
    "res = 0\n",
    "for i in L:\n",
    "    print(f\"Value at index - {i}\")\n",
    "    res += i * i\n",
    "    print(f\"Square value for corresponding index {i} is {i*i}\")\n",
    "print(f\"Sum of squares of the given range of numbers is {res}\")"
   ]
  }
 ],
 "metadata": {
  "kernelspec": {
   "display_name": "Python 3",
   "language": "python",
   "name": "python3"
  },
  "language_info": {
   "codemirror_mode": {
    "name": "ipython",
    "version": 3
   },
   "file_extension": ".py",
   "mimetype": "text/x-python",
   "name": "python",
   "nbconvert_exporter": "python",
   "pygments_lexer": "ipython3",
   "version": "3.12.3"
  }
 },
 "nbformat": 4,
 "nbformat_minor": 2
}

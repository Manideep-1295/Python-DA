{
 "cells": [
  {
   "cell_type": "markdown",
   "metadata": {},
   "source": [
    "The prefilled code contains a list. You need to write a program to read N integers, and print the elements at the index locations represented by those integers. \n",
    "\n",
    "a=['Python', 'Java', 'Ruby', 'Move', 'C++', 'Go', 'C', 'R', 'Swift', 'perl'] \n",
    "\n",
    "Input:  \n",
    "\n",
    "The first line of input will contain a positive integer(N) \n",
    "\n",
    "The following N lines will contain a positive number in each line. \n",
    "\n",
    "Explanation: \n",
    "\n",
    "If the given number is 2, read the inputs in the next two lines and print the elements at the given indexes. If the given two indexes are 1 and 4  "
   ]
  },
  {
   "cell_type": "code",
   "execution_count": 4,
   "metadata": {},
   "outputs": [
    {
     "name": "stdout",
     "output_type": "stream",
     "text": [
      "The value at given index - 1 is : Java\n"
     ]
    }
   ],
   "source": [
    "a=['Python', 'Java', 'Ruby', 'Move', 'C++', 'Go', 'C', 'R', 'Swift', 'perl'] \n",
    "\n",
    "\n",
    "n = int(input(\"Enter n value: \"))\n",
    "while(n):\n",
    "    idx = int(input(\"Enter the index value: \"))\n",
    "    print(\"The value at given index -\",idx,\"is :\",a[idx])\n",
    "    n -= 1\n"
   ]
  },
  {
   "cell_type": "markdown",
   "metadata": {},
   "source": [
    "Write a program to read N inputs and print a list containing the first and last three inputs. "
   ]
  },
  {
   "cell_type": "code",
   "execution_count": 9,
   "metadata": {},
   "outputs": [
    {
     "name": "stdout",
     "output_type": "stream",
     "text": [
      "[1, 2, 3, 4]\n",
      "[4, 3, 2, 1]\n"
     ]
    }
   ],
   "source": [
    "li = list(map(int,input().split()))\n",
    "li\n",
    "l1 = [li[0]]\n",
    "l3 = li[len(li)-3:len(li)]\n",
    "print(l1+l3)\n"
   ]
  },
  {
   "cell_type": "markdown",
   "metadata": {},
   "source": [
    "Given a number N , write a program that read N numbers and prints a list of numbers that are divisible by 5. "
   ]
  },
  {
   "cell_type": "code",
   "execution_count": 18,
   "metadata": {},
   "outputs": [
    {
     "name": "stdout",
     "output_type": "stream",
     "text": [
      "[1, 2, 5, 10]\n",
      "[5, 10]\n"
     ]
    }
   ],
   "source": [
    "li = list(map(int,input().split()))\n",
    "print(\"Given list: \",li)\n",
    "res = []\n",
    "for i in li:\n",
    "    if i%5 == 0:\n",
    "        res.append(i)\n",
    "print(\"Resultant List: \",res)"
   ]
  },
  {
   "cell_type": "markdown",
   "metadata": {},
   "source": [
    "A List L is given in the prefilled code. \n",
    "\n",
    "L = [\"apple\", \"78\", \"970.03\"] \n",
    "\n",
    "Given a number N , write a program that reads N inputs and prints the list by adding a given N inputs at the end of the list L. "
   ]
  },
  {
   "cell_type": "code",
   "execution_count": 19,
   "metadata": {},
   "outputs": [
    {
     "name": "stdout",
     "output_type": "stream",
     "text": [
      "Given List:  ['apple', '78', '970.03']\n",
      "List after operation:  ['apple', '78', '970.03', '1', 'abc']\n"
     ]
    }
   ],
   "source": [
    "L = [\"apple\", \"78\", \"970.03\"]\n",
    "print(\"Given List: \",L)\n",
    "N = int(input(\"Enter N value: \"))\n",
    "while(N):\n",
    "    inp = input(\"Enter any value: \")\n",
    "    L.append(inp)\n",
    "    N -= 1\n",
    "print(\"List after operation: \",L)"
   ]
  },
  {
   "cell_type": "markdown",
   "metadata": {},
   "source": [
    "Create a list, Given a number N, write a program that prints the list by repeating the List N times."
   ]
  },
  {
   "cell_type": "code",
   "execution_count": 20,
   "metadata": {},
   "outputs": [
    {
     "name": "stdout",
     "output_type": "stream",
     "text": [
      "['Hi!', 'Welcome to python', 'Hi!', 'Welcome to python']\n"
     ]
    }
   ],
   "source": [
    "L = [\"Hi!\",\"Welcome to python\"]\n",
    "n = int(input(\"Enter N value: \"))\n",
    "print(L*n)"
   ]
  },
  {
   "cell_type": "markdown",
   "metadata": {},
   "source": [
    "Given N number, and an index, write a program to store the numbers in a list and print the number at the given index. For this problem, each input will contain T test cases. Each test case will give an index Ki as input, which should be considered to print the number \n",
    "\n",
    "Input: \n",
    "\n",
    "The first line of input is an integer N \n",
    "\n",
    "The second line of input is an integer T representing the number of test cases \n",
    "\n",
    "The Next lines contains integers representing the numbers of list. \n",
    "\n",
    "The next T lines contains integer Ki for each line. \n",
    "\n",
    "Output: \n",
    "\n",
    "You need to print a number in a new line for each of the K test cases. \n",
    "\n",
    "\n",
    "In the given example, there are 4 numbers 1, 2, 3,4 as input \n",
    "For the first test case, K = 0, the number at the 0th index is 1 \n",
    "For the second test case, K = 3, the number at the 3rd index is 4.\n",
    "So, the output should be \n",
    "1 \n",
    "4 \n"
   ]
  },
  {
   "cell_type": "code",
   "execution_count": 3,
   "metadata": {},
   "outputs": [
    {
     "name": "stdout",
     "output_type": "stream",
     "text": [
      "List:  [1, 2, 3, 4, 5]\n",
      "2\n",
      "5\n"
     ]
    }
   ],
   "source": [
    "N = int(input(\"Enter N value range: \"))\n",
    "li = []\n",
    "for i in range(1,N+1):\n",
    "    li.append(i)\n",
    "print(\"List: \",li)\n",
    "\n",
    "T = int(input(\"Enter No. of Test Cases: \"))\n",
    "while(T):\n",
    "    k = int(input(\"Enter the index to return value: \"))\n",
    "    print(li[k])\n",
    "    T -= 1\n"
   ]
  }
 ],
 "metadata": {
  "kernelspec": {
   "display_name": "Python 3",
   "language": "python",
   "name": "python3"
  },
  "language_info": {
   "codemirror_mode": {
    "name": "ipython",
    "version": 3
   },
   "file_extension": ".py",
   "mimetype": "text/x-python",
   "name": "python",
   "nbconvert_exporter": "python",
   "pygments_lexer": "ipython3",
   "version": "3.12.3"
  }
 },
 "nbformat": 4,
 "nbformat_minor": 2
}

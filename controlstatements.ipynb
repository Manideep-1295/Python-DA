{
 "cells": [
  {
   "cell_type": "code",
   "execution_count": 6,
   "metadata": {},
   "outputs": [
    {
     "name": "stdout",
     "output_type": "stream",
     "text": [
      "For each\n",
      "1\n",
      "2\n",
      "3\n",
      "4\n",
      "For using range\n",
      "1\n",
      "2\n",
      "3\n",
      "4\n",
      "While loop\n",
      "1\n",
      "2\n",
      "3\n",
      "4\n"
     ]
    }
   ],
   "source": [
    "# Loops\n",
    "print(\"For each\")\n",
    "a = [1,2,3,4]\n",
    "for i in a:\n",
    "    print(i)\n",
    "\n",
    "print(\"For using range\")\n",
    "for i in range(len(a)):\n",
    "    print(a[i])\n",
    "\n",
    "print(\"While loop\")\n",
    "i = 0\n",
    "while(i<len(a)):\n",
    "    print(a[i])\n",
    "    i += 1"
   ]
  },
  {
   "cell_type": "code",
   "execution_count": 8,
   "metadata": {},
   "outputs": [
    {
     "name": "stdout",
     "output_type": "stream",
     "text": [
      "Both are equal\n"
     ]
    }
   ],
   "source": [
    "# Conditional statements\n",
    "a = 10\n",
    "b = 10\n",
    "\n",
    "if a < b:\n",
    "    print(\"B is Greater\")\n",
    "elif a > b:\n",
    "    print(\"A is Greater\")\n",
    "else:\n",
    "    print(\"Both are equal\")"
   ]
  },
  {
   "cell_type": "code",
   "execution_count": 9,
   "metadata": {},
   "outputs": [
    {
     "name": "stdout",
     "output_type": "stream",
     "text": [
      "a is lesser\n"
     ]
    }
   ],
   "source": [
    "a = 10\n",
    "b = 20\n",
    "c = 30\n",
    "\n",
    "if a < b:\n",
    "    if a < c:\n",
    "        print(\"a is lesser\")\n",
    "    else:\n",
    "        print(\"c is lesser\")\n",
    "else:\n",
    "    print(\"b is lesser\")"
   ]
  }
 ],
 "metadata": {
  "kernelspec": {
   "display_name": "Python 3",
   "language": "python",
   "name": "python3"
  },
  "language_info": {
   "codemirror_mode": {
    "name": "ipython",
    "version": 3
   },
   "file_extension": ".py",
   "mimetype": "text/x-python",
   "name": "python",
   "nbconvert_exporter": "python",
   "pygments_lexer": "ipython3",
   "version": "3.12.3"
  }
 },
 "nbformat": 4,
 "nbformat_minor": 2
}
